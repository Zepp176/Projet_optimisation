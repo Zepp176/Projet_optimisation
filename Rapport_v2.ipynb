{
 "cells": [
  {
   "cell_type": "markdown",
   "metadata": {},
   "source": [
    "## Situation II.1"
   ]
  },
  {
   "cell_type": "markdown",
   "metadata": {},
   "source": [
    "**Variables:**\n",
    "\n",
    "- $x$ est le vecteur des puissances éoliennes installées sur chaque site (MW)\n",
    "- $B$ est le vecteur de l'énergie hydroélectrique stockée à chaque période (MWh)\n",
    "- $H_m$ est le vecteur contenant les ajouts d'énergie hydroélectrique venant de l'éolien à chaque période (MWh)\n",
    "- $H_d$ est le vecteur contenant l'énergie qui va de l'hydroélectrique vers la consommation à chaque période (MWh)\n",
    "- $E$ est le vecteur contenant l'énergie qui est directement consommée par les habitants venant de l'éolien à chaque période (MWh)\n",
    "\n",
    "**Objectif:**\n",
    "$$\\min_{x, B, H_m, H_d, P} c_{onshore} \\sum_{i \\in O} x_i + c_{offshore} \\sum_{i \\in F} x_i$$\n",
    "\n",
    "où\n",
    "- $c_{onshore}$ est le coût amorti sur un an pour l'installation d'un MW éolien onshore (euros/MW/an)\n",
    "- $c_{offshore}$ est le coût amorti sur un an pour l'installation d'un MW éolien offshore (euros/MW/an)\n",
    "- $O$ est l'ensemble des indices des sites onshores\n",
    "- $F$ est l'ensemble des indices des sites offshores\n",
    "\n",
    "**Contraintes:**\n",
    "- $B_i - B_{i-1} = A_i + H_{m,i} - H_{d,i}/\\eta$\n",
    "- $0 \\le B_i \\le M$\n",
    "- $0 \\le H_{m,i} \\le 3P_p$\n",
    "- $0 \\le H_{d,i} \\le 3P_t$\n",
    "- $P_i + H_{d,i} \\ge D_i$\n",
    "- $(Rx)_i = P_i + H_{m,i}$\n",
    "- $B_0 = \\frac{M}{2}$\n",
    "- $B_{N-1} = \\frac{M}{2}$\n",
    "\n",
    "où\n",
    "- $M$ est la capacité maximale hydroélectrique de l'Europe (MWh)\n",
    "- $\\eta$ est le rendement de production d'électricité hydroélectrique (-)\n",
    "- $P_p$ est la puissance de pompage maximale (MW)\n",
    "- $P_t$ est la puissance de turbinage maximale (MW)\n",
    "- $N$ est le nombre d'heures prises en compte par le modèle (-)\n",
    "- $R$ est la matrice contenant les rendements éoliens pour chaque site et pour chaque heure (-)\n",
    "- $D$ est le vecteur contenant la demande en électricité à chaque période (MWh)\n",
    "- $A$ est le vecteur contenant les apports naturels hydroélectrique (MWh)"
   ]
  }
 ],
 "metadata": {
  "kernelspec": {
   "display_name": "Python 3",
   "language": "python",
   "name": "python3"
  },
  "language_info": {
   "codemirror_mode": {
    "name": "ipython",
    "version": 3
   },
   "file_extension": ".py",
   "mimetype": "text/x-python",
   "name": "python",
   "nbconvert_exporter": "python",
   "pygments_lexer": "ipython3",
   "version": "3.7.1"
  }
 },
 "nbformat": 4,
 "nbformat_minor": 4
}
